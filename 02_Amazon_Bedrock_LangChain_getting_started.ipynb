{
 "cells": [
  {
   "cell_type": "markdown",
   "metadata": {
    "id": "A3ZGwj1ozkEo"
   },
   "source": [
    "## LangChainのシンプルな使い方"
   ]
  },
  {
   "cell_type": "code",
   "execution_count": 1,
   "metadata": {
    "colab": {
     "base_uri": "https://localhost:8080/"
    },
    "executionInfo": {
     "elapsed": 14032,
     "status": "ok",
     "timestamp": 1699358130171,
     "user": {
      "displayName": "Hiroshi Kasahara",
      "userId": "17860752407484945887"
     },
     "user_tz": -540
    },
    "id": "x3tEAOAuzebg",
    "outputId": "1deb9c50-9c60-4e88-ac07-daae7d5cf6fc"
   },
   "outputs": [
    {
     "name": "stdout",
     "output_type": "stream",
     "text": [
      "Requirement already satisfied: langchain==0.0.331 in /home/studio-lab-user/.conda/envs/default/lib/python3.9/site-packages (0.0.331)\n",
      "Requirement already satisfied: boto3 in /home/studio-lab-user/.conda/envs/default/lib/python3.9/site-packages (1.28.62)\n",
      "Requirement already satisfied: botocore in /home/studio-lab-user/.conda/envs/default/lib/python3.9/site-packages (1.31.62)\n",
      "Requirement already satisfied: awscli in /home/studio-lab-user/.conda/envs/default/lib/python3.9/site-packages (1.29.62)\n",
      "Requirement already satisfied: requests<3,>=2 in /home/studio-lab-user/.conda/envs/default/lib/python3.9/site-packages (from langchain==0.0.331) (2.31.0)\n",
      "Requirement already satisfied: aiohttp<4.0.0,>=3.8.3 in /home/studio-lab-user/.conda/envs/default/lib/python3.9/site-packages (from langchain==0.0.331) (3.8.6)\n",
      "Requirement already satisfied: SQLAlchemy<3,>=1.4 in /home/studio-lab-user/.conda/envs/default/lib/python3.9/site-packages (from langchain==0.0.331) (2.0.21)\n",
      "Requirement already satisfied: tenacity<9.0.0,>=8.1.0 in /home/studio-lab-user/.conda/envs/default/lib/python3.9/site-packages (from langchain==0.0.331) (8.2.3)\n",
      "Requirement already satisfied: PyYAML>=5.3 in /home/studio-lab-user/.conda/envs/default/lib/python3.9/site-packages (from langchain==0.0.331) (6.0.1)\n",
      "Requirement already satisfied: pydantic<3,>=1 in /home/studio-lab-user/.conda/envs/default/lib/python3.9/site-packages (from langchain==0.0.331) (2.4.2)\n",
      "Requirement already satisfied: jsonpatch<2.0,>=1.33 in /home/studio-lab-user/.conda/envs/default/lib/python3.9/site-packages (from langchain==0.0.331) (1.33)\n",
      "Requirement already satisfied: async-timeout<5.0.0,>=4.0.0 in /home/studio-lab-user/.conda/envs/default/lib/python3.9/site-packages (from langchain==0.0.331) (4.0.3)\n",
      "Requirement already satisfied: langsmith<0.1.0,>=0.0.52 in /home/studio-lab-user/.conda/envs/default/lib/python3.9/site-packages (from langchain==0.0.331) (0.0.62)\n",
      "Requirement already satisfied: dataclasses-json<0.7,>=0.5.7 in /home/studio-lab-user/.conda/envs/default/lib/python3.9/site-packages (from langchain==0.0.331) (0.6.1)\n",
      "Requirement already satisfied: anyio<4.0 in /home/studio-lab-user/.conda/envs/default/lib/python3.9/site-packages (from langchain==0.0.331) (3.7.1)\n",
      "Requirement already satisfied: numpy<2,>=1 in /home/studio-lab-user/.conda/envs/default/lib/python3.9/site-packages (from langchain==0.0.331) (1.26.0)\n",
      "Requirement already satisfied: s3transfer<0.8.0,>=0.7.0 in /home/studio-lab-user/.conda/envs/default/lib/python3.9/site-packages (from boto3) (0.7.0)\n",
      "Requirement already satisfied: jmespath<2.0.0,>=0.7.1 in /home/studio-lab-user/.conda/envs/default/lib/python3.9/site-packages (from boto3) (1.0.1)\n",
      "Requirement already satisfied: urllib3<1.27,>=1.25.4 in /home/studio-lab-user/.conda/envs/default/lib/python3.9/site-packages (from botocore) (1.26.17)\n",
      "Requirement already satisfied: python-dateutil<3.0.0,>=2.1 in /home/studio-lab-user/.conda/envs/default/lib/python3.9/site-packages (from botocore) (2.8.2)\n",
      "Requirement already satisfied: rsa<4.8,>=3.1.2 in /home/studio-lab-user/.conda/envs/default/lib/python3.9/site-packages (from awscli) (4.7.2)\n",
      "Requirement already satisfied: colorama<0.4.5,>=0.2.5 in /home/studio-lab-user/.conda/envs/default/lib/python3.9/site-packages (from awscli) (0.4.4)\n",
      "Requirement already satisfied: docutils<0.17,>=0.10 in /home/studio-lab-user/.conda/envs/default/lib/python3.9/site-packages (from awscli) (0.16)\n",
      "Requirement already satisfied: frozenlist>=1.1.1 in /home/studio-lab-user/.conda/envs/default/lib/python3.9/site-packages (from aiohttp<4.0.0,>=3.8.3->langchain==0.0.331) (1.4.0)\n",
      "Requirement already satisfied: yarl<2.0,>=1.0 in /home/studio-lab-user/.conda/envs/default/lib/python3.9/site-packages (from aiohttp<4.0.0,>=3.8.3->langchain==0.0.331) (1.9.2)\n",
      "Requirement already satisfied: aiosignal>=1.1.2 in /home/studio-lab-user/.conda/envs/default/lib/python3.9/site-packages (from aiohttp<4.0.0,>=3.8.3->langchain==0.0.331) (1.3.1)\n",
      "Requirement already satisfied: charset-normalizer<4.0,>=2.0 in /home/studio-lab-user/.conda/envs/default/lib/python3.9/site-packages (from aiohttp<4.0.0,>=3.8.3->langchain==0.0.331) (3.3.0)\n",
      "Requirement already satisfied: attrs>=17.3.0 in /home/studio-lab-user/.conda/envs/default/lib/python3.9/site-packages (from aiohttp<4.0.0,>=3.8.3->langchain==0.0.331) (21.2.0)\n",
      "Requirement already satisfied: multidict<7.0,>=4.5 in /home/studio-lab-user/.conda/envs/default/lib/python3.9/site-packages (from aiohttp<4.0.0,>=3.8.3->langchain==0.0.331) (6.0.4)\n",
      "Requirement already satisfied: idna>=2.8 in /home/studio-lab-user/.conda/envs/default/lib/python3.9/site-packages (from anyio<4.0->langchain==0.0.331) (3.4)\n",
      "Requirement already satisfied: sniffio>=1.1 in /home/studio-lab-user/.conda/envs/default/lib/python3.9/site-packages (from anyio<4.0->langchain==0.0.331) (1.3.0)\n",
      "Requirement already satisfied: exceptiongroup in /home/studio-lab-user/.conda/envs/default/lib/python3.9/site-packages (from anyio<4.0->langchain==0.0.331) (1.1.3)\n",
      "Requirement already satisfied: marshmallow<4.0.0,>=3.18.0 in /home/studio-lab-user/.conda/envs/default/lib/python3.9/site-packages (from dataclasses-json<0.7,>=0.5.7->langchain==0.0.331) (3.20.1)\n",
      "Requirement already satisfied: typing-inspect<1,>=0.4.0 in /home/studio-lab-user/.conda/envs/default/lib/python3.9/site-packages (from dataclasses-json<0.7,>=0.5.7->langchain==0.0.331) (0.9.0)\n",
      "Requirement already satisfied: jsonpointer>=1.9 in /home/studio-lab-user/.conda/envs/default/lib/python3.9/site-packages (from jsonpatch<2.0,>=1.33->langchain==0.0.331) (2.4)\n",
      "Requirement already satisfied: pytest-subtests<0.12.0,>=0.11.0 in /home/studio-lab-user/.conda/envs/default/lib/python3.9/site-packages (from langsmith<0.1.0,>=0.0.52->langchain==0.0.331) (0.11.0)\n",
      "Requirement already satisfied: packaging>=17.0 in /home/studio-lab-user/.conda/envs/default/lib/python3.9/site-packages (from marshmallow<4.0.0,>=3.18.0->dataclasses-json<0.7,>=0.5.7->langchain==0.0.331) (21.3)\n",
      "Requirement already satisfied: pyparsing!=3.0.5,>=2.0.2 in /home/studio-lab-user/.conda/envs/default/lib/python3.9/site-packages (from packaging>=17.0->marshmallow<4.0.0,>=3.18.0->dataclasses-json<0.7,>=0.5.7->langchain==0.0.331) (3.0.6)\n",
      "Requirement already satisfied: pydantic-core==2.10.1 in /home/studio-lab-user/.conda/envs/default/lib/python3.9/site-packages (from pydantic<3,>=1->langchain==0.0.331) (2.10.1)\n",
      "Requirement already satisfied: annotated-types>=0.4.0 in /home/studio-lab-user/.conda/envs/default/lib/python3.9/site-packages (from pydantic<3,>=1->langchain==0.0.331) (0.6.0)\n",
      "Requirement already satisfied: typing-extensions>=4.6.1 in /home/studio-lab-user/.conda/envs/default/lib/python3.9/site-packages (from pydantic<3,>=1->langchain==0.0.331) (4.8.0)\n",
      "Requirement already satisfied: pytest>=7.0 in /home/studio-lab-user/.conda/envs/default/lib/python3.9/site-packages (from pytest-subtests<0.12.0,>=0.11.0->langsmith<0.1.0,>=0.0.52->langchain==0.0.331) (7.4.3)\n",
      "Requirement already satisfied: iniconfig in /home/studio-lab-user/.conda/envs/default/lib/python3.9/site-packages (from pytest>=7.0->pytest-subtests<0.12.0,>=0.11.0->langsmith<0.1.0,>=0.0.52->langchain==0.0.331) (2.0.0)\n",
      "Requirement already satisfied: pluggy<2.0,>=0.12 in /home/studio-lab-user/.conda/envs/default/lib/python3.9/site-packages (from pytest>=7.0->pytest-subtests<0.12.0,>=0.11.0->langsmith<0.1.0,>=0.0.52->langchain==0.0.331) (1.3.0)\n",
      "Requirement already satisfied: tomli>=1.0.0 in /home/studio-lab-user/.conda/envs/default/lib/python3.9/site-packages (from pytest>=7.0->pytest-subtests<0.12.0,>=0.11.0->langsmith<0.1.0,>=0.0.52->langchain==0.0.331) (2.0.1)\n",
      "Requirement already satisfied: six>=1.5 in /home/studio-lab-user/.conda/envs/default/lib/python3.9/site-packages (from python-dateutil<3.0.0,>=2.1->botocore) (1.16.0)\n",
      "Requirement already satisfied: certifi>=2017.4.17 in /home/studio-lab-user/.conda/envs/default/lib/python3.9/site-packages (from requests<3,>=2->langchain==0.0.331) (2023.7.22)\n",
      "Requirement already satisfied: pyasn1>=0.1.3 in /home/studio-lab-user/.conda/envs/default/lib/python3.9/site-packages (from rsa<4.8,>=3.1.2->awscli) (0.5.0)\n",
      "Requirement already satisfied: greenlet!=0.4.17 in /home/studio-lab-user/.conda/envs/default/lib/python3.9/site-packages (from SQLAlchemy<3,>=1.4->langchain==0.0.331) (3.0.0)\n",
      "Requirement already satisfied: mypy-extensions>=0.3.0 in /home/studio-lab-user/.conda/envs/default/lib/python3.9/site-packages (from typing-inspect<1,>=0.4.0->dataclasses-json<0.7,>=0.5.7->langchain==0.0.331) (1.0.0)\n"
     ]
    }
   ],
   "source": [
    "## 利用するベースモデルのライブラリ (AWS SDK (boto3)) も別途インストールする\n",
    "!pip install langchain==0.0.331 boto3 botocore awscli"
   ]
  },
  {
   "cell_type": "code",
   "execution_count": 2,
   "metadata": {
    "colab": {
     "base_uri": "https://localhost:8080/"
    },
    "executionInfo": {
     "elapsed": 29562,
     "status": "ok",
     "timestamp": 1699358161795,
     "user": {
      "displayName": "Hiroshi Kasahara",
      "userId": "17860752407484945887"
     },
     "user_tz": -540
    },
    "id": "2nBfb1CSzzbY",
    "outputId": "1911ab12-0a94-4fd8-bd3a-e5bb62e9bf98"
   },
   "outputs": [
    {
     "data": {
      "text/plain": [
       "AIMessage(content=' Pythonの開発環境を構築するには、主に以下の手順が必要です。\\n\\n1. Pythonのインストール\\n\\nPythonの公式サイト(python.org)から最新バージョンのPythonをダウンロードし、インストールします。WindowsやMacならインストーラーが用意されているので簡単にインストールできます。\\n\\n2. テキストエディタやIDEのインストール\\n\\nコードを書くためのテキストエディタやIDE(統合開発環境)をインストールします。WindowsであればVisual Studio Code、MacであればPyCharmなどがおすすめです。\\n\\n3. 仮想環境の構築\\n\\nプロジェクトごとにPythonのバージョンや利用するライブラリを切り替えられるよう、virtualenvやpyenvなどを使')"
      ]
     },
     "execution_count": 2,
     "metadata": {},
     "output_type": "execute_result"
    }
   ],
   "source": [
    "import os\n",
    "import boto3\n",
    "from langchain.chat_models import BedrockChat\n",
    "from langchain.schema import HumanMessage, SystemMessage, AIMessage\n",
    "\n",
    "## Configuration\n",
    "bedrock_runtime = boto3.client(\n",
    "    service_name='bedrock-runtime',\n",
    "    region_name='us-west-2'\n",
    ")\n",
    "\n",
    "chat = BedrockChat(\n",
    "    client=bedrock_runtime,\n",
    "    model_id='anthropic.claude-v2',\n",
    "    model_kwargs={\n",
    "        \"temperature\": 0.7\n",
    "    }\n",
    ")\n",
    "\n",
    "## Run\n",
    "question = 'Pythonの開発環境の構築方法を教えてください。'\n",
    "messages = [\n",
    "    SystemMessage(content='Pythonのエキスパートとして、お答えください。'),\n",
    "    HumanMessage(content=question),\n",
    "]\n",
    "chat.invoke(messages)\n"
   ]
  },
  {
   "cell_type": "code",
   "execution_count": 3,
   "metadata": {
    "colab": {
     "base_uri": "https://localhost:8080/"
    },
    "executionInfo": {
     "elapsed": 22612,
     "status": "ok",
     "timestamp": 1699358184382,
     "user": {
      "displayName": "Hiroshi Kasahara",
      "userId": "17860752407484945887"
     },
     "user_tz": -540
    },
    "id": "_Fpu4gS63hyS",
    "outputId": "6e2bcd4e-56d1-459f-e7b4-064d1acf2a2a"
   },
   "outputs": [
    {
     "data": {
      "text/plain": [
       "AIMessage(content=' WindowsでPythonの開発環境を構築するには、以下の手順がおすすめです。\\n\\n1. Pythonのインストール\\n\\nPythonの公式サイト(python.org)から最新版のPythonをダウンロードしてインストールします。インストーラーの設定で、Add Python to PATHにチェックを入れておくとPATHが通ります。\\n\\n2. コードエディタのインストール\\n\\nコードエディタとして、Visual Studio CodeやSublime Text、Atomなどをインストールします。これらのエディタはPythonに対応していて、コーディングしやすい環境を提供してくれます。\\n\\n3. パッケージマネージャのインストール\\n\\nPythonのパッケージマネージャとしてpipをインストールします。pipを使うと、便利な')"
      ]
     },
     "execution_count": 3,
     "metadata": {},
     "output_type": "execute_result"
    }
   ],
   "source": [
    "messages = [\n",
    "    SystemMessage(content='Pythonのエキスパートとして、お答えください。'),\n",
    "    HumanMessage(content=question),\n",
    "    AIMessage(content='それはどのオペレーティングシステムを使用しているかによります。どのオペレーティングシステムを使用していますか？'),\n",
    "    HumanMessage(content='Windowsを使用しています。Windows　OS上でのPythonの開発環境の構築方法を教えてください。')\n",
    "]\n",
    "chat.invoke(messages)"
   ]
  },
  {
   "cell_type": "code",
   "execution_count": null,
   "metadata": {
    "executionInfo": {
     "elapsed": 20,
     "status": "ok",
     "timestamp": 1699358184382,
     "user": {
      "displayName": "Hiroshi Kasahara",
      "userId": "17860752407484945887"
     },
     "user_tz": -540
    },
    "id": "_2MqTzSX5qgj"
   },
   "outputs": [],
   "source": []
  }
 ],
 "metadata": {
  "colab": {
   "authorship_tag": "ABX9TyOJZ76aD9FhagmTa7lix31d",
   "provenance": []
  },
  "kernelspec": {
   "display_name": "default:Python",
   "language": "python",
   "name": "conda-env-default-py"
  },
  "language_info": {
   "codemirror_mode": {
    "name": "ipython",
    "version": 3
   },
   "file_extension": ".py",
   "mimetype": "text/x-python",
   "name": "python",
   "nbconvert_exporter": "python",
   "pygments_lexer": "ipython3",
   "version": "3.9.7"
  }
 },
 "nbformat": 4,
 "nbformat_minor": 4
}
