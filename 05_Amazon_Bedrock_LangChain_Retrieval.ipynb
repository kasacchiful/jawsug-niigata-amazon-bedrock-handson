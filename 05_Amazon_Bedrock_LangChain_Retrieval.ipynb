{
 "cells": [
  {
   "cell_type": "markdown",
   "metadata": {
    "id": "D0T_JXJsBOs1"
   },
   "source": [
    "# 言語モデルに、外部データを取り込む\n",
    "\n",
    "用意されている言語モデルは、ある日時までのデータで学習済みですが、今日出た最新の内容を学習しているわけではありません。また、利用者が保持している固有のデータを学習しているわけではありません。\n",
    "\n",
    "LLMを使ったアプリケーションの大半は、モデルの学習セットには含まれないユーザ固有のデータが必要になります。\n",
    "これを実現する主な方法は、RAG (Retrieval Augmented Generation) です。これは、外部のデータを取得して、プロンプト生成の際にこのデータを埋め込んでLLMに渡します。\n",
    "\n",
    "LangChainには、RAGを実現するためのツールが備わっています。"
   ]
  },
  {
   "cell_type": "markdown",
   "metadata": {
    "id": "8blZ4SO9oqP-"
   },
   "source": [
    "## 準備"
   ]
  },
  {
   "cell_type": "code",
   "execution_count": 1,
   "metadata": {
    "colab": {
     "base_uri": "https://localhost:8080/"
    },
    "executionInfo": {
     "elapsed": 17034,
     "status": "ok",
     "timestamp": 1699500238165,
     "user": {
      "displayName": "Hiroshi Kasahara",
      "userId": "17860752407484945887"
     },
     "user_tz": -540
    },
    "id": "hVAuZkf9bJfv",
    "outputId": "c001cbc4-207b-491d-ebc7-26bf7b6c4bef"
   },
   "outputs": [
    {
     "name": "stdout",
     "output_type": "stream",
     "text": [
      "Requirement already satisfied: langchain==0.0.331 in /home/studio-lab-user/.conda/envs/default/lib/python3.9/site-packages (0.0.331)\n",
      "Requirement already satisfied: boto3 in /home/studio-lab-user/.conda/envs/default/lib/python3.9/site-packages (1.28.62)\n",
      "Requirement already satisfied: botocore in /home/studio-lab-user/.conda/envs/default/lib/python3.9/site-packages (1.31.62)\n",
      "Requirement already satisfied: awscli in /home/studio-lab-user/.conda/envs/default/lib/python3.9/site-packages (1.29.62)\n",
      "Requirement already satisfied: tiktoken in /home/studio-lab-user/.conda/envs/default/lib/python3.9/site-packages (0.5.1)\n",
      "Requirement already satisfied: langsmith<0.1.0,>=0.0.52 in /home/studio-lab-user/.conda/envs/default/lib/python3.9/site-packages (from langchain==0.0.331) (0.0.62)\n",
      "Requirement already satisfied: jsonpatch<2.0,>=1.33 in /home/studio-lab-user/.conda/envs/default/lib/python3.9/site-packages (from langchain==0.0.331) (1.33)\n",
      "Requirement already satisfied: aiohttp<4.0.0,>=3.8.3 in /home/studio-lab-user/.conda/envs/default/lib/python3.9/site-packages (from langchain==0.0.331) (3.8.6)\n",
      "Requirement already satisfied: dataclasses-json<0.7,>=0.5.7 in /home/studio-lab-user/.conda/envs/default/lib/python3.9/site-packages (from langchain==0.0.331) (0.6.1)\n",
      "Requirement already satisfied: SQLAlchemy<3,>=1.4 in /home/studio-lab-user/.conda/envs/default/lib/python3.9/site-packages (from langchain==0.0.331) (2.0.21)\n",
      "Requirement already satisfied: requests<3,>=2 in /home/studio-lab-user/.conda/envs/default/lib/python3.9/site-packages (from langchain==0.0.331) (2.31.0)\n",
      "Requirement already satisfied: tenacity<9.0.0,>=8.1.0 in /home/studio-lab-user/.conda/envs/default/lib/python3.9/site-packages (from langchain==0.0.331) (8.2.3)\n",
      "Requirement already satisfied: pydantic<3,>=1 in /home/studio-lab-user/.conda/envs/default/lib/python3.9/site-packages (from langchain==0.0.331) (1.10.13)\n",
      "Requirement already satisfied: PyYAML>=5.3 in /home/studio-lab-user/.conda/envs/default/lib/python3.9/site-packages (from langchain==0.0.331) (6.0.1)\n",
      "Requirement already satisfied: anyio<4.0 in /home/studio-lab-user/.conda/envs/default/lib/python3.9/site-packages (from langchain==0.0.331) (3.7.1)\n",
      "Requirement already satisfied: async-timeout<5.0.0,>=4.0.0 in /home/studio-lab-user/.conda/envs/default/lib/python3.9/site-packages (from langchain==0.0.331) (4.0.3)\n",
      "Requirement already satisfied: numpy<2,>=1 in /home/studio-lab-user/.conda/envs/default/lib/python3.9/site-packages (from langchain==0.0.331) (1.26.0)\n",
      "Requirement already satisfied: jmespath<2.0.0,>=0.7.1 in /home/studio-lab-user/.conda/envs/default/lib/python3.9/site-packages (from boto3) (1.0.1)\n",
      "Requirement already satisfied: s3transfer<0.8.0,>=0.7.0 in /home/studio-lab-user/.conda/envs/default/lib/python3.9/site-packages (from boto3) (0.7.0)\n",
      "Requirement already satisfied: python-dateutil<3.0.0,>=2.1 in /home/studio-lab-user/.conda/envs/default/lib/python3.9/site-packages (from botocore) (2.8.2)\n",
      "Requirement already satisfied: urllib3<1.27,>=1.25.4 in /home/studio-lab-user/.conda/envs/default/lib/python3.9/site-packages (from botocore) (1.26.17)\n",
      "Requirement already satisfied: colorama<0.4.5,>=0.2.5 in /home/studio-lab-user/.conda/envs/default/lib/python3.9/site-packages (from awscli) (0.4.4)\n",
      "Requirement already satisfied: rsa<4.8,>=3.1.2 in /home/studio-lab-user/.conda/envs/default/lib/python3.9/site-packages (from awscli) (4.7.2)\n",
      "Requirement already satisfied: docutils<0.17,>=0.10 in /home/studio-lab-user/.conda/envs/default/lib/python3.9/site-packages (from awscli) (0.16)\n",
      "Requirement already satisfied: regex>=2022.1.18 in /home/studio-lab-user/.conda/envs/default/lib/python3.9/site-packages (from tiktoken) (2023.10.3)\n",
      "Requirement already satisfied: yarl<2.0,>=1.0 in /home/studio-lab-user/.conda/envs/default/lib/python3.9/site-packages (from aiohttp<4.0.0,>=3.8.3->langchain==0.0.331) (1.9.2)\n",
      "Requirement already satisfied: multidict<7.0,>=4.5 in /home/studio-lab-user/.conda/envs/default/lib/python3.9/site-packages (from aiohttp<4.0.0,>=3.8.3->langchain==0.0.331) (6.0.4)\n",
      "Requirement already satisfied: frozenlist>=1.1.1 in /home/studio-lab-user/.conda/envs/default/lib/python3.9/site-packages (from aiohttp<4.0.0,>=3.8.3->langchain==0.0.331) (1.4.0)\n",
      "Requirement already satisfied: charset-normalizer<4.0,>=2.0 in /home/studio-lab-user/.conda/envs/default/lib/python3.9/site-packages (from aiohttp<4.0.0,>=3.8.3->langchain==0.0.331) (3.3.0)\n",
      "Requirement already satisfied: aiosignal>=1.1.2 in /home/studio-lab-user/.conda/envs/default/lib/python3.9/site-packages (from aiohttp<4.0.0,>=3.8.3->langchain==0.0.331) (1.3.1)\n",
      "Requirement already satisfied: attrs>=17.3.0 in /home/studio-lab-user/.conda/envs/default/lib/python3.9/site-packages (from aiohttp<4.0.0,>=3.8.3->langchain==0.0.331) (21.2.0)\n",
      "Requirement already satisfied: exceptiongroup in /home/studio-lab-user/.conda/envs/default/lib/python3.9/site-packages (from anyio<4.0->langchain==0.0.331) (1.1.3)\n",
      "Requirement already satisfied: sniffio>=1.1 in /home/studio-lab-user/.conda/envs/default/lib/python3.9/site-packages (from anyio<4.0->langchain==0.0.331) (1.3.0)\n",
      "Requirement already satisfied: idna>=2.8 in /home/studio-lab-user/.conda/envs/default/lib/python3.9/site-packages (from anyio<4.0->langchain==0.0.331) (3.4)\n",
      "Requirement already satisfied: typing-inspect<1,>=0.4.0 in /home/studio-lab-user/.conda/envs/default/lib/python3.9/site-packages (from dataclasses-json<0.7,>=0.5.7->langchain==0.0.331) (0.9.0)\n",
      "Requirement already satisfied: marshmallow<4.0.0,>=3.18.0 in /home/studio-lab-user/.conda/envs/default/lib/python3.9/site-packages (from dataclasses-json<0.7,>=0.5.7->langchain==0.0.331) (3.20.1)\n",
      "Requirement already satisfied: jsonpointer>=1.9 in /home/studio-lab-user/.conda/envs/default/lib/python3.9/site-packages (from jsonpatch<2.0,>=1.33->langchain==0.0.331) (2.4)\n",
      "Requirement already satisfied: pytest-subtests<0.12.0,>=0.11.0 in /home/studio-lab-user/.conda/envs/default/lib/python3.9/site-packages (from langsmith<0.1.0,>=0.0.52->langchain==0.0.331) (0.11.0)\n",
      "Requirement already satisfied: packaging>=17.0 in /home/studio-lab-user/.conda/envs/default/lib/python3.9/site-packages (from marshmallow<4.0.0,>=3.18.0->dataclasses-json<0.7,>=0.5.7->langchain==0.0.331) (21.3)\n",
      "Requirement already satisfied: pyparsing!=3.0.5,>=2.0.2 in /home/studio-lab-user/.conda/envs/default/lib/python3.9/site-packages (from packaging>=17.0->marshmallow<4.0.0,>=3.18.0->dataclasses-json<0.7,>=0.5.7->langchain==0.0.331) (3.0.6)\n",
      "Requirement already satisfied: typing-extensions>=4.2.0 in /home/studio-lab-user/.conda/envs/default/lib/python3.9/site-packages (from pydantic<3,>=1->langchain==0.0.331) (4.8.0)\n",
      "Requirement already satisfied: pytest>=7.0 in /home/studio-lab-user/.conda/envs/default/lib/python3.9/site-packages (from pytest-subtests<0.12.0,>=0.11.0->langsmith<0.1.0,>=0.0.52->langchain==0.0.331) (7.4.3)\n",
      "Requirement already satisfied: iniconfig in /home/studio-lab-user/.conda/envs/default/lib/python3.9/site-packages (from pytest>=7.0->pytest-subtests<0.12.0,>=0.11.0->langsmith<0.1.0,>=0.0.52->langchain==0.0.331) (2.0.0)\n",
      "Requirement already satisfied: tomli>=1.0.0 in /home/studio-lab-user/.conda/envs/default/lib/python3.9/site-packages (from pytest>=7.0->pytest-subtests<0.12.0,>=0.11.0->langsmith<0.1.0,>=0.0.52->langchain==0.0.331) (2.0.1)\n",
      "Requirement already satisfied: pluggy<2.0,>=0.12 in /home/studio-lab-user/.conda/envs/default/lib/python3.9/site-packages (from pytest>=7.0->pytest-subtests<0.12.0,>=0.11.0->langsmith<0.1.0,>=0.0.52->langchain==0.0.331) (1.3.0)\n",
      "Requirement already satisfied: six>=1.5 in /home/studio-lab-user/.conda/envs/default/lib/python3.9/site-packages (from python-dateutil<3.0.0,>=2.1->botocore) (1.16.0)\n",
      "Requirement already satisfied: certifi>=2017.4.17 in /home/studio-lab-user/.conda/envs/default/lib/python3.9/site-packages (from requests<3,>=2->langchain==0.0.331) (2023.7.22)\n",
      "Requirement already satisfied: pyasn1>=0.1.3 in /home/studio-lab-user/.conda/envs/default/lib/python3.9/site-packages (from rsa<4.8,>=3.1.2->awscli) (0.5.0)\n",
      "Requirement already satisfied: greenlet!=0.4.17 in /home/studio-lab-user/.conda/envs/default/lib/python3.9/site-packages (from SQLAlchemy<3,>=1.4->langchain==0.0.331) (3.0.0)\n",
      "Requirement already satisfied: mypy-extensions>=0.3.0 in /home/studio-lab-user/.conda/envs/default/lib/python3.9/site-packages (from typing-inspect<1,>=0.4.0->dataclasses-json<0.7,>=0.5.7->langchain==0.0.331) (1.0.0)\n"
     ]
    }
   ],
   "source": [
    "## 利用するベースモデルのライブラリ (AWS SDK (boto3)) も別途インストールする\n",
    "!pip install langchain==0.0.331 boto3 botocore awscli tiktoken"
   ]
  },
  {
   "cell_type": "markdown",
   "metadata": {
    "id": "hpCRubexa8ry"
   },
   "source": [
    "## LangChain Retrieval\n",
    "\n",
    "RAG（Retrieval Augmented Generation）を実現するために必要なツールをまとめた、LangChainモジュールです。\n",
    "\n",
    "![Retrieval](https://python.langchain.com/assets/images/data_connection-c42d68c3d092b85f50d08d4cc171fc25.jpg)\n",
    "\n",
    "https://python.langchain.com/docs/modules/data_connection/\n",
    "\n",
    "RAGを実現するための手順を簡単にみてみましょう。\n",
    "\n",
    "### ドキュメントローダ (Load)\n",
    "\n",
    "様々なソースからドキュメントをロードします。\n",
    "LangChainは、100以上の異なるドキュメントローダを提供しています。\n",
    "あらゆる種類のドキュメント（HTML／PDF／コード／等）をあらゆる場所（Amazon S3バケット／Webサイト／等）から読み込む機能が提供されています。\n",
    "\n",
    "### ドキュメント変換 (Transform)\n",
    "\n",
    "ドキュメント検索の重要なことは、ドキュメントの関連する部分のみをフェッチすることになります。そのために、検索用に最適化するための変換ステップが含まれます。\n",
    "例えば、大きな文章を小さな文章に分割(chunking)することです。\n",
    "LangChainは、これを行うためのアルゴリズムと、特定のドキュメントタイプ(コード／markdown／等)に最適化されたロジックを提供しています。\n",
    "\n",
    "### テキスト埋め込み (Embed)\n",
    "\n",
    "さらにドキュメント検索に重要なことは、テキストの埋め込み(Embedding)を作成することです。\n",
    "Embeddingは、ざっくりに言うとテキスト文字列を数値ベクトルに置き換えます。\n",
    "これをすることで、テキストの意味(semantec meaning)を捕らえ、類似した他のテキストを素早く効率的に検索することを可能にします。\n",
    "LangChainは、25以上の異なるEmbedding Providerやメソッドとの統合を提供します。\n",
    "LangChainは標準的なインターフェイスを提供し、簡単にモデル間の切り替えを可能にします。\n",
    "\n",
    "### ベクター保存 (Vector Store)\n",
    "\n",
    "テキスト文字列をEmbeddingすると、数値ベクトルに変換されます。\n",
    "Embeddingで得られた値を効率よく保存・検索することを目的としたデータベースが必要になってきます。\n",
    "LangChainは、50以上の異なるベクターストアとの統合を提供します。\n",
    "LangChainは標準的なインターフェイスを公開しており、ベクターストアを簡単に交換することができます。\n",
    "\n",
    "### 検索 (Retrieve)\n",
    "\n",
    "ベクターデータがデータベースに格納されたら、それを取り出す必要があります。\n",
    "LangChainは様々な検索アルゴリズムをサポートしています。\n",
    "単純なセマンティック検索など、簡単に始められる基本的な方法をサポートしています。\n",
    "しかし、パフォーマンスを向上させるために、これに加えて様々なアルゴリズムを追加しています。\n",
    "以下がその例です：\n",
    "\n",
    "- 親ドキュメント検索\n",
    "    - 親ドキュメントごとに複数の埋め込みを作成することができ、より小さなチャンクを検索しつつ、より大きなコンテキストを返すことができます。\n",
    "- セルフクエリ検索\n",
    "    - ユーザーからの質問には、意味的なものだけでなく、メタデータフィルタとして表現するのが最適なロジックが含まれていることがよくあります。セルフクエリでは、クエリ内に存在する他のメタデータフィルタから、クエリのセマンティック部分を解析することができます。\n",
    "- アンサンブル検索\n",
    "    - 複数の異なるソースから、あるいは複数の異なるアルゴリズムを使って文書を取得したい場合があります。アンサンブル・リトリーバを使えば、これを簡単に行うことができます。\n"
   ]
  },
  {
   "cell_type": "markdown",
   "metadata": {
    "id": "dbUjcSmljcVK"
   },
   "source": [
    "## ドキュメントローダ (Load)\n",
    "\n",
    "シンプルな例を挙げます。ファイル内にあるテキストを読み込んで、1つのドキュメントオブジェクトとして配置します。\n",
    "\n",
    "\n",
    "```python\n",
    "from langchain.document_loaders import TextLoader\n",
    "\n",
    "loader = TextLoader(\"./index.md\")\n",
    "loader.load()\n",
    "```\n",
    "\n",
    "今回はせっかくなので、PDFドキュメントを読み込んでみます。\n",
    "試しに比較的大きめで、外部公開しても問題ないPDFドキュメントを格納しましょう。\n",
    "\n",
    "**格納先**:\n",
    "\n",
    "- SageMaker Studio\n",
    "    - 左側のエクスプローラ画面を開いて、アップロードしましょう。\n",
    "- SageMaker Studio Lab\n",
    "    - 左側のエクスプローラ画面を開いて、アップロードしましょう。\n",
    "- Google Coraboratory\n",
    "    - Google Driveをマウントして、Google Driveのマイドライブにアップロードしましょう。\n"
   ]
  },
  {
   "cell_type": "code",
   "execution_count": 2,
   "metadata": {
    "colab": {
     "base_uri": "https://localhost:8080/"
    },
    "executionInfo": {
     "elapsed": 7601,
     "status": "ok",
     "timestamp": 1699500316619,
     "user": {
      "displayName": "Hiroshi Kasahara",
      "userId": "17860752407484945887"
     },
     "user_tz": -540
    },
    "id": "WXGnObSXcFpY",
    "outputId": "db7f22e8-fc29-442f-da91-8658cece3bd4"
   },
   "outputs": [
    {
     "name": "stdout",
     "output_type": "stream",
     "text": [
      "Requirement already satisfied: pypdf in /home/studio-lab-user/.conda/envs/default/lib/python3.9/site-packages (3.17.1)\n",
      "Requirement already satisfied: typing_extensions>=3.7.4.3 in /home/studio-lab-user/.conda/envs/default/lib/python3.9/site-packages (from pypdf) (4.8.0)\n"
     ]
    }
   ],
   "source": [
    "## PDFの読み込みに、今回はpypdfを使ってみます。\n",
    "!pip install pypdf"
   ]
  },
  {
   "cell_type": "code",
   "execution_count": 3,
   "metadata": {
    "id": "01WTFszJpTDk"
   },
   "outputs": [],
   "source": [
    "## 読み込みたいドキュメントを指定\n",
    "## サンプルとして、外務省が公開しているSDGsの基礎資料のPDFを読み込ませてみる。\n",
    "## https://www.mofa.go.jp/mofaj/gaiko/oda/sdgs/about/index.html\n",
    "\n",
    "pdfdoc = './doc/sdgs_gaiyou_202310.pdf'\n"
   ]
  },
  {
   "cell_type": "code",
   "execution_count": 4,
   "metadata": {
    "id": "Xv3wPF65pK51"
   },
   "outputs": [],
   "source": [
    "from langchain.document_loaders import PyPDFLoader\n",
    "\n",
    "loader = PyPDFLoader(pdfdoc)\n",
    "pages = loader.load_and_split()"
   ]
  },
  {
   "cell_type": "code",
   "execution_count": 5,
   "metadata": {
    "colab": {
     "base_uri": "https://localhost:8080/"
    },
    "executionInfo": {
     "elapsed": 7,
     "status": "ok",
     "timestamp": 1699500317632,
     "user": {
      "displayName": "Hiroshi Kasahara",
      "userId": "17860752407484945887"
     },
     "user_tz": -540
    },
    "id": "HKwD1Opaqd8p",
    "outputId": "8ffcee4b-5744-4eaa-d9ac-e4606c2b13f8"
   },
   "outputs": [
    {
     "data": {
      "text/plain": [
       "Document(page_content='持続可能な開発目標（ SDGs）達成に\\n向けて日本が果たす役割\\n1ＳＤＧｓを通じて、豊かで活力ある未来を創る\\n令和5年10月\\n外務省国際協力局 地球規模課題総括課', metadata={'source': './doc/sdgs_gaiyou_202310.pdf', 'page': 0})"
      ]
     },
     "execution_count": 5,
     "metadata": {},
     "output_type": "execute_result"
    }
   ],
   "source": [
    "pages[0]"
   ]
  },
  {
   "cell_type": "code",
   "execution_count": 6,
   "metadata": {
    "colab": {
     "base_uri": "https://localhost:8080/"
    },
    "executionInfo": {
     "elapsed": 6,
     "status": "ok",
     "timestamp": 1699500317632,
     "user": {
      "displayName": "Hiroshi Kasahara",
      "userId": "17860752407484945887"
     },
     "user_tz": -540
    },
    "id": "ErOFwASRrEX7",
    "outputId": "7c6402ab-8f60-4607-c917-78bfc7f3c3cb"
   },
   "outputs": [
    {
     "data": {
      "text/plain": [
       "Document(page_content='持続可能な開発目標（ SDGs）\\n◼2015年9月の国連サミットで全会一致で採択。 「誰一人取り残さない」持続可能で多様性と包\\n摂性のある社会 の実現のため、 2030年を年限とする 17の国際目標。 （その下に、 169のターゲット、\\n231の指標が決められている。）\\n先進国を含め、 全ての国が行動 普遍性\\n人間の安全保障の理念を反映し\\n「誰一人取り残さない 」 包摂性\\n全てのステークホルダーが役割を 参画型\\n社会・経済・環境に 統合的に取り組む 統合性\\n定期的にフォローアップ 透明性\\n\\uf0752001年に国連で専門家間の議論を経て策定 。2000年に採択された 「国連ミレニアム宣言 」と、\\n1990年代の主要な国際会議で採択された国際開発目標を統合したもの 。\\n\\uf075開発途上国向けの開発目標 として、 2015年を期限とする 8つの目標を設定。\\n（①貧困・飢餓、②初等教育、③女性、④乳幼児、⑤妊産婦、⑥疾病、⑦環境、⑧連帯）前身：ミレニアム開発目標（ Millennium Development Goals: MDGs ）\\n✓MDGsは一定の成果を達成。一方で、未達成の課題も残された。\\n○極度の貧困半減（目標①）や HIV・マラリア対策（同⑥）等を達成。\\n×乳幼児や妊産婦の死亡率削減（同④、⑤）は未達成。サブサハラアフリカ等で達成に遅れ。環境\\n人権\\n平和\\n2', metadata={'source': './doc/sdgs_gaiyou_202310.pdf', 'page': 1})"
      ]
     },
     "execution_count": 6,
     "metadata": {},
     "output_type": "execute_result"
    }
   ],
   "source": [
    "pages[1]"
   ]
  },
  {
   "cell_type": "markdown",
   "metadata": {
    "id": "-DOc0dGm2jKG"
   },
   "source": [
    "ちなみに、今回はLangChainのドキュメントローダを利用しましたが、ファイル種別毎に用意されたライブラリを直接利用してテキスト抽出を行っても構いません。\n",
    "個別のライブラリの方が多機能な部分があるため、そのような機能を使って抽出したい場合は、個別のライブラリを使う方が良いでしょう。\n"
   ]
  },
  {
   "cell_type": "markdown",
   "metadata": {
    "id": "zywdKuTjwYzS"
   },
   "source": [
    "## ドキュメント変換 (Transform)\n",
    "\n",
    "読み込んだドキュメントのテキストを元に、いくつかのチャンク(chunk)に分割します。\n",
    "ここでは、LangChainの `RecursiveCharacterTextSplitter` を使います。\n",
    "\n",
    "このテキスト分割ツールは、一般的なテキストに対して推奨されています。\n",
    "\n",
    "今回は文字列長を元にチャンクを分割します。\n",
    "\n",
    "ちなみに、トークン長を元にチャンクを分割したい場合は、OpenAIであれば、\n",
    " `from_tiktoken_encoder()` を使って、トークン長を元にチャンクを分割すると良いでしょう。\n",
    "トークン長の推定は、OpenAIが公開している `tiktoken` というライブラリを用います。\n",
    "\n",
    "https://github.com/openai/tiktoken\n"
   ]
  },
  {
   "cell_type": "code",
   "execution_count": null,
   "metadata": {
    "id": "7QAT9SM4rHvX"
   },
   "outputs": [],
   "source": [
    "from langchain.text_splitter import RecursiveCharacterTextSplitter\n",
    "\n",
    "# text_splitter = RecursiveCharacterTextSplitter.from_tiktoken_encoder(\n",
    "#     ## 適切なチャンクサイズは、ドキュメントによって異なるため、調整は必要\n",
    "#     ## 大きすぎると、回答時にいろんな箇所の情報が参照できない (トークン長に限りがあるため)\n",
    "#     ## 小さすぎると、回答の文脈がおかしくなる (途中で文章切れてしまうため)\n",
    "#     chunk_size = 200,\n",
    "#     chunk_overlap  = 0,\n",
    "# )\n",
    "\n",
    "text_splitter = RecursiveCharacterTextSplitter(\n",
    "    ## 適切なチャンクサイズは、ドキュメントによって異なるため、調整は必要\n",
    "    ## 大きすぎると、回答時にいろんな箇所の情報が参照できない (トークン長に限りがあるため)\n",
    "    ## 小さすぎると、回答の文脈がおかしくなる (途中で文章切れてしまうため)\n",
    "    chunk_size = 200,  ## 通常はテキストサイズ\n",
    "    chunk_overlap  = 10,\n",
    ")"
   ]
  },
  {
   "cell_type": "code",
   "execution_count": 8,
   "metadata": {
    "id": "BO_6TbSrY6H_"
   },
   "outputs": [],
   "source": [
    "## pageの区切りを '\\n\\n' に変換して、一つの文字列にしてchunkを生成\n",
    "chunks = text_splitter.split_text('\\n\\n'.join([page.page_content for page in pages]))"
   ]
  },
  {
   "cell_type": "code",
   "execution_count": 9,
   "metadata": {
    "colab": {
     "base_uri": "https://localhost:8080/"
    },
    "executionInfo": {
     "elapsed": 12,
     "status": "ok",
     "timestamp": 1699500319794,
     "user": {
      "displayName": "Hiroshi Kasahara",
      "userId": "17860752407484945887"
     },
     "user_tz": -540
    },
    "id": "Z9jESftca3m6",
    "outputId": "8bd3870a-250c-4fe7-892f-8b02208d23c6"
   },
   "outputs": [
    {
     "data": {
      "text/plain": [
       "33"
      ]
     },
     "execution_count": 9,
     "metadata": {},
     "output_type": "execute_result"
    }
   ],
   "source": [
    "len(chunks)"
   ]
  },
  {
   "cell_type": "code",
   "execution_count": 10,
   "metadata": {
    "colab": {
     "base_uri": "https://localhost:8080/"
    },
    "executionInfo": {
     "elapsed": 11,
     "status": "ok",
     "timestamp": 1699500319795,
     "user": {
      "displayName": "Hiroshi Kasahara",
      "userId": "17860752407484945887"
     },
     "user_tz": -540
    },
    "id": "HGp3cI-xa7HN",
    "outputId": "b7e5d379-98bd-4ec6-cef6-d04a928566b8"
   },
   "outputs": [
    {
     "data": {
      "text/plain": [
       "['持続可能な開発目標（ SDGs）達成に\\n向けて日本が果たす役割\\n1ＳＤＧｓを通じて、豊かで活力ある未来を創る\\n令和5年10月\\n外務省国際協力局 地球規模課題総括課',\n",
       " '持続可能な開発目標（ SDGs）\\n◼2015年9月の国連サミットで全会一致で採択。 「誰一人取り残さない」持続可能で多様性と包\\n摂性のある社会 の実現のため、 2030年を年限とする 17の国際目標。 （その下に、 169のターゲット、\\n231の指標が決められている。）\\n先進国を含め、 全ての国が行動 普遍性\\n人間の安全保障の理念を反映し\\n「誰一人取り残さない 」 包摂性',\n",
       " '全てのステークホルダーが役割を 参画型\\n社会・経済・環境に 統合的に取り組む 統合性\\n定期的にフォローアップ 透明性\\n\\uf0752001年に国連で専門家間の議論を経て策定 。2000年に採択された 「国連ミレニアム宣言 」と、\\n1990年代の主要な国際会議で採択された国際開発目標を統合したもの 。\\n\\uf075開発途上国向けの開発目標 として、 2015年を期限とする 8つの目標を設定。',\n",
       " '（①貧困・飢餓、②初等教育、③女性、④乳幼児、⑤妊産婦、⑥疾病、⑦環境、⑧連帯）前身：ミレニアム開発目標（ Millennium Development Goals: MDGs ）\\n✓MDGsは一定の成果を達成。一方で、未達成の課題も残された。\\n○極度の貧困半減（目標①）や HIV・マラリア対策（同⑥）等を達成。',\n",
       " '×乳幼児や妊産婦の死亡率削減（同④、⑤）は未達成。サブサハラアフリカ等で達成に遅れ。環境\\n人権\\n平和\\n2']"
      ]
     },
     "execution_count": 10,
     "metadata": {},
     "output_type": "execute_result"
    }
   ],
   "source": [
    "## 最初の5つ分のchunkを表示\n",
    "chunks[:5]"
   ]
  },
  {
   "cell_type": "markdown",
   "metadata": {
    "id": "00TZnbdXwd6H"
   },
   "source": [
    "## テキスト埋め込み (Embedding)\n",
    "\n",
    "Embedding可能なサービスは様々あります。\n",
    "今回は、Bedrock上にAWSが提供しているEmbeddings APIサービスをLangChainから使います。\n",
    "\n",
    "実際には、この後のベクター保存の際にEmbeddingを兼ねて保存されますが、Embedding自体の振る舞いをここでは見てみます。"
   ]
  },
  {
   "cell_type": "code",
   "execution_count": 11,
   "metadata": {
    "id": "jk4mbRgXwiv3"
   },
   "outputs": [],
   "source": [
    "import os\n",
    "import boto3\n",
    "from langchain.embeddings import BedrockEmbeddings\n",
    "\n",
    "bedrock_runtime = boto3.client(\n",
    "    service_name='bedrock-runtime',\n",
    "    region_name='us-west-2'\n",
    ")\n",
    "\n",
    "embeddings_model = BedrockEmbeddings(\n",
    "    client=bedrock_runtime,\n",
    "    model_id='amazon.titan-embed-text-v1'\n",
    ")\n",
    "\n",
    "embeddings = embeddings_model.embed_documents(chunks)"
   ]
  },
  {
   "cell_type": "code",
   "execution_count": 12,
   "metadata": {
    "colab": {
     "base_uri": "https://localhost:8080/"
    },
    "executionInfo": {
     "elapsed": 11,
     "status": "ok",
     "timestamp": 1699500321861,
     "user": {
      "displayName": "Hiroshi Kasahara",
      "userId": "17860752407484945887"
     },
     "user_tz": -540
    },
    "id": "OTh_WvHlg4w_",
    "outputId": "166ab105-468a-4f9a-ba6e-486698aae95e"
   },
   "outputs": [
    {
     "data": {
      "text/plain": [
       "(33, 1536)"
      ]
     },
     "execution_count": 12,
     "metadata": {},
     "output_type": "execute_result"
    }
   ],
   "source": [
    "len(embeddings), len(embeddings[0])"
   ]
  },
  {
   "cell_type": "code",
   "execution_count": 13,
   "metadata": {
    "colab": {
     "base_uri": "https://localhost:8080/"
    },
    "executionInfo": {
     "elapsed": 10,
     "status": "ok",
     "timestamp": 1699500321862,
     "user": {
      "displayName": "Hiroshi Kasahara",
      "userId": "17860752407484945887"
     },
     "user_tz": -540
    },
    "id": "gi909HNJg6m4",
    "outputId": "b48b2ea0-276d-4639-8abf-273871c41ea0"
   },
   "outputs": [
    {
     "data": {
      "text/plain": [
       "[1.3046875, 0.09277344, 0.26171875, 0.2890625, 0.78515625]"
      ]
     },
     "execution_count": 13,
     "metadata": {},
     "output_type": "execute_result"
    }
   ],
   "source": [
    "## Embeddingした結果、最初のchunkの最初から5つの数値を表示\n",
    "embeddings[0][:5]"
   ]
  },
  {
   "cell_type": "markdown",
   "metadata": {
    "id": "Qw55Kux59Bko"
   },
   "source": [
    "## ベクター保存 (Store)\n",
    "\n",
    "Embeddingデータの保存と、ベクトル検索の実行を行います。\n",
    "検索の際は、問い合わせクエリとなる文字列をEmbeddingして、保存されているデータとの類似度で検索をかけます。\n",
    "\n",
    "![Vector Store](https://python.langchain.com/assets/images/vector_stores-9dc1ecb68c4cb446df110764c9cc07e0.jpg)\n",
    "\n",
    "https://python.langchain.com/docs/modules/data_connection/vectorstores/\n",
    "\n",
    "ベクター保存可能なサービスは、ここ最近急速に増えています。\n",
    "\n",
    "今回は、SageMaker Studio LabやColaboratory上でも動作可能なローカルDBを利用します。\n",
    "\n"
   ]
  },
  {
   "cell_type": "code",
   "execution_count": 14,
   "metadata": {
    "colab": {
     "base_uri": "https://localhost:8080/",
     "height": 1000
    },
    "executionInfo": {
     "elapsed": 36779,
     "status": "ok",
     "timestamp": 1699500378766,
     "user": {
      "displayName": "Hiroshi Kasahara",
      "userId": "17860752407484945887"
     },
     "user_tz": -540
    },
    "id": "8hLvYWk_g-gy",
    "outputId": "a8a5c91f-b73b-41d7-a965-a7063a51796a"
   },
   "outputs": [
    {
     "name": "stdout",
     "output_type": "stream",
     "text": [
      "Requirement already satisfied: chromadb==0.4.15 in /home/studio-lab-user/.conda/envs/default/lib/python3.9/site-packages (0.4.15)\n",
      "Requirement already satisfied: kaleido in /home/studio-lab-user/.conda/envs/default/lib/python3.9/site-packages (0.2.1)\n",
      "Requirement already satisfied: python-multipart in /home/studio-lab-user/.conda/envs/default/lib/python3.9/site-packages (0.0.6)\n",
      "Requirement already satisfied: typing-extensions>4.7.0 in /home/studio-lab-user/.conda/envs/default/lib/python3.9/site-packages (4.8.0)\n",
      "Requirement already satisfied: numpy>=1.22.5 in /home/studio-lab-user/.conda/envs/default/lib/python3.9/site-packages (from chromadb==0.4.15) (1.26.0)\n",
      "Requirement already satisfied: opentelemetry-exporter-otlp-proto-grpc>=1.2.0 in /home/studio-lab-user/.conda/envs/default/lib/python3.9/site-packages (from chromadb==0.4.15) (1.21.0)\n",
      "Requirement already satisfied: opentelemetry-api>=1.2.0 in /home/studio-lab-user/.conda/envs/default/lib/python3.9/site-packages (from chromadb==0.4.15) (1.21.0)\n",
      "Requirement already satisfied: onnxruntime>=1.14.1 in /home/studio-lab-user/.conda/envs/default/lib/python3.9/site-packages (from chromadb==0.4.15) (1.16.2)\n",
      "Requirement already satisfied: typer>=0.9.0 in /home/studio-lab-user/.conda/envs/default/lib/python3.9/site-packages (from chromadb==0.4.15) (0.9.0)\n",
      "Requirement already satisfied: bcrypt>=4.0.1 in /home/studio-lab-user/.conda/envs/default/lib/python3.9/site-packages (from chromadb==0.4.15) (4.0.1)\n",
      "Requirement already satisfied: kubernetes>=28.1.0 in /home/studio-lab-user/.conda/envs/default/lib/python3.9/site-packages (from chromadb==0.4.15) (28.1.0)\n",
      "Requirement already satisfied: tenacity>=8.2.3 in /home/studio-lab-user/.conda/envs/default/lib/python3.9/site-packages (from chromadb==0.4.15) (8.2.3)\n",
      "Requirement already satisfied: tokenizers>=0.13.2 in /home/studio-lab-user/.conda/envs/default/lib/python3.9/site-packages (from chromadb==0.4.15) (0.15.0)\n",
      "Requirement already satisfied: uvicorn[standard]>=0.18.3 in /home/studio-lab-user/.conda/envs/default/lib/python3.9/site-packages (from chromadb==0.4.15) (0.24.0.post1)\n",
      "Requirement already satisfied: pydantic>=1.9 in /home/studio-lab-user/.conda/envs/default/lib/python3.9/site-packages (from chromadb==0.4.15) (1.10.13)\n",
      "Requirement already satisfied: pypika>=0.48.9 in /home/studio-lab-user/.conda/envs/default/lib/python3.9/site-packages (from chromadb==0.4.15) (0.48.9)\n",
      "Requirement already satisfied: grpcio>=1.58.0 in /home/studio-lab-user/.conda/envs/default/lib/python3.9/site-packages (from chromadb==0.4.15) (1.59.2)\n",
      "Requirement already satisfied: fastapi>=0.95.2 in /home/studio-lab-user/.conda/envs/default/lib/python3.9/site-packages (from chromadb==0.4.15) (0.103.2)\n",
      "Requirement already satisfied: opentelemetry-sdk>=1.2.0 in /home/studio-lab-user/.conda/envs/default/lib/python3.9/site-packages (from chromadb==0.4.15) (1.21.0)\n",
      "Requirement already satisfied: chroma-hnswlib==0.7.3 in /home/studio-lab-user/.conda/envs/default/lib/python3.9/site-packages (from chromadb==0.4.15) (0.7.3)\n",
      "Requirement already satisfied: pulsar-client>=3.1.0 in /home/studio-lab-user/.conda/envs/default/lib/python3.9/site-packages (from chromadb==0.4.15) (3.3.0)\n",
      "Requirement already satisfied: requests>=2.28 in /home/studio-lab-user/.conda/envs/default/lib/python3.9/site-packages (from chromadb==0.4.15) (2.31.0)\n",
      "Requirement already satisfied: tqdm>=4.65.0 in /home/studio-lab-user/.conda/envs/default/lib/python3.9/site-packages (from chromadb==0.4.15) (4.66.1)\n",
      "Requirement already satisfied: overrides>=7.3.1 in /home/studio-lab-user/.conda/envs/default/lib/python3.9/site-packages (from chromadb==0.4.15) (7.4.0)\n",
      "Requirement already satisfied: importlib-resources in /home/studio-lab-user/.conda/envs/default/lib/python3.9/site-packages (from chromadb==0.4.15) (5.4.0)\n",
      "Requirement already satisfied: posthog>=2.4.0 in /home/studio-lab-user/.conda/envs/default/lib/python3.9/site-packages (from chromadb==0.4.15) (3.0.2)\n",
      "Requirement already satisfied: anyio<4.0.0,>=3.7.1 in /home/studio-lab-user/.conda/envs/default/lib/python3.9/site-packages (from fastapi>=0.95.2->chromadb==0.4.15) (3.7.1)\n",
      "Requirement already satisfied: starlette<0.28.0,>=0.27.0 in /home/studio-lab-user/.conda/envs/default/lib/python3.9/site-packages (from fastapi>=0.95.2->chromadb==0.4.15) (0.27.0)\n",
      "Requirement already satisfied: exceptiongroup in /home/studio-lab-user/.conda/envs/default/lib/python3.9/site-packages (from anyio<4.0.0,>=3.7.1->fastapi>=0.95.2->chromadb==0.4.15) (1.1.3)\n",
      "Requirement already satisfied: idna>=2.8 in /home/studio-lab-user/.conda/envs/default/lib/python3.9/site-packages (from anyio<4.0.0,>=3.7.1->fastapi>=0.95.2->chromadb==0.4.15) (3.4)\n",
      "Requirement already satisfied: sniffio>=1.1 in /home/studio-lab-user/.conda/envs/default/lib/python3.9/site-packages (from anyio<4.0.0,>=3.7.1->fastapi>=0.95.2->chromadb==0.4.15) (1.3.0)\n",
      "Requirement already satisfied: pyyaml>=5.4.1 in /home/studio-lab-user/.conda/envs/default/lib/python3.9/site-packages (from kubernetes>=28.1.0->chromadb==0.4.15) (6.0.1)\n",
      "Requirement already satisfied: python-dateutil>=2.5.3 in /home/studio-lab-user/.conda/envs/default/lib/python3.9/site-packages (from kubernetes>=28.1.0->chromadb==0.4.15) (2.8.2)\n",
      "Requirement already satisfied: websocket-client!=0.40.0,!=0.41.*,!=0.42.*,>=0.32.0 in /home/studio-lab-user/.conda/envs/default/lib/python3.9/site-packages (from kubernetes>=28.1.0->chromadb==0.4.15) (1.6.4)\n",
      "Requirement already satisfied: requests-oauthlib in /home/studio-lab-user/.conda/envs/default/lib/python3.9/site-packages (from kubernetes>=28.1.0->chromadb==0.4.15) (1.3.1)\n",
      "Requirement already satisfied: urllib3<2.0,>=1.24.2 in /home/studio-lab-user/.conda/envs/default/lib/python3.9/site-packages (from kubernetes>=28.1.0->chromadb==0.4.15) (1.26.17)\n",
      "Requirement already satisfied: google-auth>=1.0.1 in /home/studio-lab-user/.conda/envs/default/lib/python3.9/site-packages (from kubernetes>=28.1.0->chromadb==0.4.15) (2.23.4)\n",
      "Requirement already satisfied: oauthlib>=3.2.2 in /home/studio-lab-user/.conda/envs/default/lib/python3.9/site-packages (from kubernetes>=28.1.0->chromadb==0.4.15) (3.2.2)\n",
      "Requirement already satisfied: six>=1.9.0 in /home/studio-lab-user/.conda/envs/default/lib/python3.9/site-packages (from kubernetes>=28.1.0->chromadb==0.4.15) (1.16.0)\n",
      "Requirement already satisfied: certifi>=14.05.14 in /home/studio-lab-user/.conda/envs/default/lib/python3.9/site-packages (from kubernetes>=28.1.0->chromadb==0.4.15) (2023.7.22)\n",
      "Requirement already satisfied: pyasn1-modules>=0.2.1 in /home/studio-lab-user/.conda/envs/default/lib/python3.9/site-packages (from google-auth>=1.0.1->kubernetes>=28.1.0->chromadb==0.4.15) (0.3.0)\n",
      "Requirement already satisfied: rsa<5,>=3.1.4 in /home/studio-lab-user/.conda/envs/default/lib/python3.9/site-packages (from google-auth>=1.0.1->kubernetes>=28.1.0->chromadb==0.4.15) (4.7.2)\n",
      "Requirement already satisfied: cachetools<6.0,>=2.0.0 in /home/studio-lab-user/.conda/envs/default/lib/python3.9/site-packages (from google-auth>=1.0.1->kubernetes>=28.1.0->chromadb==0.4.15) (5.3.2)\n",
      "Requirement already satisfied: sympy in /home/studio-lab-user/.conda/envs/default/lib/python3.9/site-packages (from onnxruntime>=1.14.1->chromadb==0.4.15) (1.12)\n",
      "Requirement already satisfied: flatbuffers in /home/studio-lab-user/.conda/envs/default/lib/python3.9/site-packages (from onnxruntime>=1.14.1->chromadb==0.4.15) (23.5.26)\n",
      "Requirement already satisfied: coloredlogs in /home/studio-lab-user/.conda/envs/default/lib/python3.9/site-packages (from onnxruntime>=1.14.1->chromadb==0.4.15) (15.0.1)\n",
      "Requirement already satisfied: protobuf in /home/studio-lab-user/.conda/envs/default/lib/python3.9/site-packages (from onnxruntime>=1.14.1->chromadb==0.4.15) (4.25.1)\n",
      "Requirement already satisfied: packaging in /home/studio-lab-user/.conda/envs/default/lib/python3.9/site-packages (from onnxruntime>=1.14.1->chromadb==0.4.15) (21.3)\n",
      "Requirement already satisfied: importlib-metadata<7.0,>=6.0 in /home/studio-lab-user/.conda/envs/default/lib/python3.9/site-packages (from opentelemetry-api>=1.2.0->chromadb==0.4.15) (6.8.0)\n",
      "Requirement already satisfied: deprecated>=1.2.6 in /home/studio-lab-user/.conda/envs/default/lib/python3.9/site-packages (from opentelemetry-api>=1.2.0->chromadb==0.4.15) (1.2.14)\n",
      "Requirement already satisfied: wrapt<2,>=1.10 in /home/studio-lab-user/.conda/envs/default/lib/python3.9/site-packages (from deprecated>=1.2.6->opentelemetry-api>=1.2.0->chromadb==0.4.15) (1.16.0)\n",
      "Requirement already satisfied: zipp>=0.5 in /home/studio-lab-user/.conda/envs/default/lib/python3.9/site-packages (from importlib-metadata<7.0,>=6.0->opentelemetry-api>=1.2.0->chromadb==0.4.15) (3.6.0)\n",
      "Requirement already satisfied: googleapis-common-protos~=1.52 in /home/studio-lab-user/.conda/envs/default/lib/python3.9/site-packages (from opentelemetry-exporter-otlp-proto-grpc>=1.2.0->chromadb==0.4.15) (1.61.0)\n",
      "Requirement already satisfied: opentelemetry-proto==1.21.0 in /home/studio-lab-user/.conda/envs/default/lib/python3.9/site-packages (from opentelemetry-exporter-otlp-proto-grpc>=1.2.0->chromadb==0.4.15) (1.21.0)\n",
      "Requirement already satisfied: opentelemetry-exporter-otlp-proto-common==1.21.0 in /home/studio-lab-user/.conda/envs/default/lib/python3.9/site-packages (from opentelemetry-exporter-otlp-proto-grpc>=1.2.0->chromadb==0.4.15) (1.21.0)\n",
      "Requirement already satisfied: backoff<3.0.0,>=1.10.0 in /home/studio-lab-user/.conda/envs/default/lib/python3.9/site-packages (from opentelemetry-exporter-otlp-proto-grpc>=1.2.0->chromadb==0.4.15) (2.2.1)\n",
      "Requirement already satisfied: opentelemetry-semantic-conventions==0.42b0 in /home/studio-lab-user/.conda/envs/default/lib/python3.9/site-packages (from opentelemetry-sdk>=1.2.0->chromadb==0.4.15) (0.42b0)\n",
      "Requirement already satisfied: monotonic>=1.5 in /home/studio-lab-user/.conda/envs/default/lib/python3.9/site-packages (from posthog>=2.4.0->chromadb==0.4.15) (1.6)\n",
      "Requirement already satisfied: pyasn1<0.6.0,>=0.4.6 in /home/studio-lab-user/.conda/envs/default/lib/python3.9/site-packages (from pyasn1-modules>=0.2.1->google-auth>=1.0.1->kubernetes>=28.1.0->chromadb==0.4.15) (0.5.0)\n",
      "Requirement already satisfied: charset-normalizer<4,>=2 in /home/studio-lab-user/.conda/envs/default/lib/python3.9/site-packages (from requests>=2.28->chromadb==0.4.15) (3.3.0)\n",
      "Requirement already satisfied: huggingface_hub<1.0,>=0.16.4 in /home/studio-lab-user/.conda/envs/default/lib/python3.9/site-packages (from tokenizers>=0.13.2->chromadb==0.4.15) (0.19.4)\n",
      "Requirement already satisfied: filelock in /home/studio-lab-user/.conda/envs/default/lib/python3.9/site-packages (from huggingface_hub<1.0,>=0.16.4->tokenizers>=0.13.2->chromadb==0.4.15) (3.13.1)\n",
      "Requirement already satisfied: fsspec>=2023.5.0 in /home/studio-lab-user/.conda/envs/default/lib/python3.9/site-packages (from huggingface_hub<1.0,>=0.16.4->tokenizers>=0.13.2->chromadb==0.4.15) (2023.10.0)\n",
      "Requirement already satisfied: pyparsing!=3.0.5,>=2.0.2 in /home/studio-lab-user/.conda/envs/default/lib/python3.9/site-packages (from packaging->onnxruntime>=1.14.1->chromadb==0.4.15) (3.0.6)\n",
      "Requirement already satisfied: click<9.0.0,>=7.1.1 in /home/studio-lab-user/.conda/envs/default/lib/python3.9/site-packages (from typer>=0.9.0->chromadb==0.4.15) (8.1.7)\n",
      "Requirement already satisfied: h11>=0.8 in /home/studio-lab-user/.conda/envs/default/lib/python3.9/site-packages (from uvicorn[standard]>=0.18.3->chromadb==0.4.15) (0.14.0)\n",
      "Requirement already satisfied: httptools>=0.5.0 in /home/studio-lab-user/.conda/envs/default/lib/python3.9/site-packages (from uvicorn[standard]>=0.18.3->chromadb==0.4.15) (0.6.1)\n",
      "Requirement already satisfied: python-dotenv>=0.13 in /home/studio-lab-user/.conda/envs/default/lib/python3.9/site-packages (from uvicorn[standard]>=0.18.3->chromadb==0.4.15) (1.0.0)\n",
      "Requirement already satisfied: websockets>=10.4 in /home/studio-lab-user/.conda/envs/default/lib/python3.9/site-packages (from uvicorn[standard]>=0.18.3->chromadb==0.4.15) (12.0)\n",
      "Requirement already satisfied: uvloop!=0.15.0,!=0.15.1,>=0.14.0 in /home/studio-lab-user/.conda/envs/default/lib/python3.9/site-packages (from uvicorn[standard]>=0.18.3->chromadb==0.4.15) (0.19.0)\n",
      "Requirement already satisfied: watchfiles>=0.13 in /home/studio-lab-user/.conda/envs/default/lib/python3.9/site-packages (from uvicorn[standard]>=0.18.3->chromadb==0.4.15) (0.21.0)\n",
      "Requirement already satisfied: humanfriendly>=9.1 in /home/studio-lab-user/.conda/envs/default/lib/python3.9/site-packages (from coloredlogs->onnxruntime>=1.14.1->chromadb==0.4.15) (10.0)\n",
      "Requirement already satisfied: mpmath>=0.19 in /home/studio-lab-user/.conda/envs/default/lib/python3.9/site-packages (from sympy->onnxruntime>=1.14.1->chromadb==0.4.15) (1.3.0)\n"
     ]
    }
   ],
   "source": [
    "## ベクターストアとして、Chromaを利用 (それ以外のライブラリは依存関係解消のため)\n",
    "## 0.4.16だと、LangChainからの呼び出しでエラーになるので、一旦0.4.15に固定\n",
    "## https://github.com/langchain-ai/langchain/issues/13051\n",
    "\n",
    "!pip install chromadb==0.4.15 kaleido python-multipart \"typing-extensions>4.7.0\" # \"typing-extensions<4.6.0\""
   ]
  },
  {
   "cell_type": "code",
   "execution_count": 15,
   "metadata": {
    "id": "3Mj1AQbz-4s0"
   },
   "outputs": [],
   "source": [
    "from langchain.vectorstores import Chroma\n",
    "\n",
    "## データをベクターデータとして保存\n",
    "db = Chroma.from_texts(texts=chunks, embedding=embeddings_model)"
   ]
  },
  {
   "cell_type": "code",
   "execution_count": 16,
   "metadata": {
    "colab": {
     "base_uri": "https://localhost:8080/"
    },
    "executionInfo": {
     "elapsed": 6,
     "status": "ok",
     "timestamp": 1699500380677,
     "user": {
      "displayName": "Hiroshi Kasahara",
      "userId": "17860752407484945887"
     },
     "user_tz": -540
    },
    "id": "97Y743rCCU2e",
    "outputId": "5edc67d5-e315-4ed0-ceae-e570b5a2b0c7"
   },
   "outputs": [
    {
     "name": "stdout",
     "output_type": "stream",
     "text": [
      "•SDGサミットや持続可能な開発のための国連ハイレベル政治フォーラム（ HLPF）、日メコン SDGsフォー\n",
      "ラム等の議論に積極的に貢献。SDGsアクションプラン 2023：重点事項②\n",
      "6\n"
     ]
    }
   ],
   "source": [
    "## 試しに検索をかけてみる　(文字列版)\n",
    "query = \"日本における、SDGsアクションプラン2023は何ですか？\"\n",
    "docs = db.similarity_search(query)\n",
    "print(docs[0].page_content)"
   ]
  },
  {
   "cell_type": "code",
   "execution_count": 17,
   "metadata": {
    "colab": {
     "base_uri": "https://localhost:8080/"
    },
    "executionInfo": {
     "elapsed": 554,
     "status": "ok",
     "timestamp": 1699500381227,
     "user": {
      "displayName": "Hiroshi Kasahara",
      "userId": "17860752407484945887"
     },
     "user_tz": -540
    },
    "id": "-YxckJEIGQE3",
    "outputId": "498f6bd9-4b62-42b0-e3dc-9cd38dd56665"
   },
   "outputs": [
    {
     "name": "stdout",
     "output_type": "stream",
     "text": [
      "•SDGサミットや持続可能な開発のための国連ハイレベル政治フォーラム（ HLPF）、日メコン SDGsフォー\n",
      "ラム等の議論に積極的に貢献。SDGsアクションプラン 2023：重点事項②\n",
      "6\n"
     ]
    }
   ],
   "source": [
    "## 試しに検索をかけてみる　(ベクター版)\n",
    "query = \"日本における、SDGsアクションプラン2023は何ですか？\"\n",
    "embedding_vector = embeddings_model.embed_query(query)  ## 問合せクエリ文字列をベクター化\n",
    "docs = db.similarity_search_by_vector(embedding_vector)\n",
    "print(docs[0].page_content)"
   ]
  },
  {
   "cell_type": "markdown",
   "metadata": {
    "id": "1lFCGjarHOIU"
   },
   "source": [
    "## 検索 (Retrieve)\n",
    "\n",
    "実際の検索には、LangChain Retrieverを利用します。\n",
    "LangChain Retrieverは、構造化されていないクエリを指定するとドキュメントを返すインタフェースになっています。ベクターストアはRetrieverのバックボーンとして利用します。\n",
    "\n",
    "Retrieverは、LangChain Expression Language (LCEL) の基本構成要素であるRunnableインタフェースを実装しています。そのため、LCELでチェインを構成している場合、非常に便利です。\n",
    "Runnableインタフェースは、invoke, ainvoke, stream, astream, batch, abatch, astream_log 呼び出しをサポートしています。"
   ]
  },
  {
   "cell_type": "code",
   "execution_count": 18,
   "metadata": {
    "id": "TIk5UFU1Grc4"
   },
   "outputs": [],
   "source": [
    "## Retrieverインタフェース\n",
    "retriever = db.as_retriever()"
   ]
  },
  {
   "cell_type": "code",
   "execution_count": 19,
   "metadata": {
    "colab": {
     "base_uri": "https://localhost:8080/"
    },
    "executionInfo": {
     "elapsed": 7,
     "status": "ok",
     "timestamp": 1699500381227,
     "user": {
      "displayName": "Hiroshi Kasahara",
      "userId": "17860752407484945887"
     },
     "user_tz": -540
    },
    "id": "T3fX-Gl7KDdu",
    "outputId": "2a1829ee-8344-4f4f-d54e-4c34fc7a96ce"
   },
   "outputs": [
    {
     "name": "stdout",
     "output_type": "stream",
     "text": [
      "•SDGサミットや持続可能な開発のための国連ハイレベル政治フォーラム（ HLPF）、日メコン SDGsフォー\n",
      "ラム等の議論に積極的に貢献。SDGsアクションプラン 2023：重点事項②\n",
      "6\n"
     ]
    }
   ],
   "source": [
    "## 検索\n",
    "retrieved_docs = retriever.invoke(\n",
    "    \"日本における、SDGsアクションプラン2023は何ですか？\"\n",
    ")\n",
    "print(retrieved_docs[0].page_content)"
   ]
  },
  {
   "cell_type": "markdown",
   "metadata": {
    "id": "pmHy24i_HFk5"
   },
   "source": [
    "ここまでで、RAGの事前準備ができました。"
   ]
  },
  {
   "cell_type": "markdown",
   "metadata": {
    "id": "XmhlweHSLFAN"
   },
   "source": [
    "## ChatModelを使って、PDFの内容を質問しよう\n",
    "\n",
    "ここからいよいよ、PDFの内容をプロンプトを含めた状態でChat Modelに質問を問い合わせてみましょう。\n"
   ]
  },
  {
   "cell_type": "code",
   "execution_count": 20,
   "metadata": {
    "id": "73A3CIwpKwu3"
   },
   "outputs": [],
   "source": [
    "from langchain.chat_models import BedrockChat\n",
    "from langchain.memory import ConversationBufferMemory\n",
    "from langchain.schema.runnable import RunnablePassthrough, RunnableLambda\n",
    "from operator import itemgetter\n",
    "from langchain.chains import ConversationalRetrievalChain\n",
    "\n",
    "## Setup Prompt Template\n",
    "## 今回はデフォルトのテンプレートを使うので、カスタム設定しないでおく。\n",
    "\n",
    "## Setup Memory\n",
    "memory = ConversationBufferMemory(\n",
    "    memory_key=\"chat_history\",\n",
    "    return_messages=True\n",
    ")\n",
    "\n",
    "## Setup Chat Model\n",
    "llm = BedrockChat(\n",
    "    client=bedrock_runtime,\n",
    "    model_id='anthropic.claude-v2',\n",
    "    model_kwargs={\n",
    "        \"temperature\": 0.7,\n",
    "        ## \"max_tokens_to_sample\": 500\n",
    "    }\n",
    ")    \n",
    "\n",
    "## Setup Retriever\n",
    "retriever = db.as_retriever(\n",
    "    search_type='similarity',  ## 検索タイプ: 'similarity' / 'similarity_score_threshold' / 'mmr' (Maximum Marginal Relevance)\n",
    "    search_kwargs={\"k\": 5},  ## 検索取得数: default: 4\n",
    ")\n",
    "\n",
    "## Setup Chain\n",
    "qa = ConversationalRetrievalChain.from_llm(\n",
    "    llm=llm,\n",
    "    retriever=retriever,\n",
    "    memory=memory,\n",
    "    verbose=True,\n",
    ")\n"
   ]
  },
  {
   "cell_type": "code",
   "execution_count": 21,
   "metadata": {
    "colab": {
     "base_uri": "https://localhost:8080/"
    },
    "executionInfo": {
     "elapsed": 194176,
     "status": "ok",
     "timestamp": 1699500955393,
     "user": {
      "displayName": "Hiroshi Kasahara",
      "userId": "17860752407484945887"
     },
     "user_tz": -540
    },
    "id": "x3M1SHjwQR15",
    "outputId": "2ee9ec28-dac9-4d2f-f50e-92247e062842"
   },
   "outputs": [
    {
     "name": "stdout",
     "output_type": "stream",
     "text": [
      "\n",
      "\n",
      "\u001b[1m> Entering new StuffDocumentsChain chain...\u001b[0m\n",
      "\n",
      "\n",
      "\u001b[1m> Entering new LLMChain chain...\u001b[0m\n",
      "Prompt after formatting:\n",
      "\u001b[32;1m\u001b[1;3mSystem: Use the following pieces of context to answer the user's question. \n",
      "If you don't know the answer, just say that you don't know, don't try to make up an answer.\n",
      "----------------\n",
      "•SDGサミットや持続可能な開発のための国連ハイレベル政治フォーラム（ HLPF）、日メコン SDGsフォー\n",
      "ラム等の議論に積極的に貢献。SDGsアクションプラン 2023：重点事項②\n",
      "6\n",
      "\n",
      "年から毎年、 ８つの優先課題に基づき、政府の施策のうちの重点項目を整理した「 SDGsアクションプラン」を策\n",
      "定している。また、 SDGs達成に資する優れた取組を行う企業・団体等を 「ジャパン SDGsアワード」 を通じて表彰して\n",
      "いる。\n",
      "32023年9月\n",
      "SDGサミット開催\n",
      "2023年中（予定）\n",
      "SDGs実施指針の改定2023年はSDGsの「中間年」。\n",
      "\n",
      "現のため、 SDGsの達成に向けた取組を加速化する必要 がある。\n",
      "•2023年には「SDGs実施指針」の改定 が見込まれている。新たな実施指針を、 2030年のSDGs\n",
      "達成に向けた 本格的な行動の加速・拡大 に資するものとすべく取り組んでいく。\n",
      "•2023年5月、日本は、自由、民主主義、人権、法の支配といった基本的価値を共有する Ｇ７の\n",
      "\n",
      "2030年までに国内外において\n",
      "SDGsを達成するための中長期的な国家戦略。\n",
      "2019年9月に開催された SDGサミットと、\n",
      "日本国内における SDGsの取組進展を踏まえて改定。\n",
      "※SDGs推進本部では、 SDGs実施指針に基づき、 SDGsへの貢献を「見える化」することを目的として、 2017\n",
      "\n",
      "「SDGsアクションプラン 2023」作成に当たっての基本的な考え方\n",
      "•2023年はSDGsの「中間年」 。世界は歴史的な分水嶺に立ち、新たな挑戦に直面。新型コロナや\n",
      "気候変動に加え、ロシアによるウクライナ侵略、食料やエネルギー安全保障などが相互に結びつき、\n",
      "多くの人の安全が脅かされており、まさに 人間の安全保障の危機 。「誰一人取り残さない」世界の実\n",
      "Human: 日本における、SDGsアクションプラン2023は何ですか？\u001b[0m\n",
      "\n",
      "\u001b[1m> Finished chain.\u001b[0m\n",
      "\n",
      "\u001b[1m> Finished chain.\u001b[0m\n"
     ]
    },
    {
     "data": {
      "text/plain": [
       "{'question': '日本における、SDGsアクションプラン2023は何ですか？',\n",
       " 'chat_history': [HumanMessage(content='日本における、SDGsアクションプラン2023は何ですか？'),\n",
       "  AIMessage(content=' SDGsアクションプラン2023は、日本政府が2023年にSDGs達成に向けて重点的に取り組む施策のリストです。 \\n\\n具体的には、\\n\\n- 2023年はSDGsの「中間年」と位置づけられ、SDGs達成に向けた取組を加速化する必要があるため、政府は毎年「SDGsアクションプラン」を策定しています。\\n\\n- 2023年版は8つの優先課題に基づいて重点項目を整理したものです。\\n\\n- 2023年9月にはSDGサミットが開催され、2023年中にはSDGs実施指針の改定が予定されています。 \\n\\n- 改定後の新しい実施指針は、2030年のSDGs達成に向けた本格的な行動の加速・')],\n",
       " 'answer': ' SDGsアクションプラン2023は、日本政府が2023年にSDGs達成に向けて重点的に取り組む施策のリストです。 \\n\\n具体的には、\\n\\n- 2023年はSDGsの「中間年」と位置づけられ、SDGs達成に向けた取組を加速化する必要があるため、政府は毎年「SDGsアクションプラン」を策定しています。\\n\\n- 2023年版は8つの優先課題に基づいて重点項目を整理したものです。\\n\\n- 2023年9月にはSDGサミットが開催され、2023年中にはSDGs実施指針の改定が予定されています。 \\n\\n- 改定後の新しい実施指針は、2030年のSDGs達成に向けた本格的な行動の加速・'}"
      ]
     },
     "execution_count": 21,
     "metadata": {},
     "output_type": "execute_result"
    }
   ],
   "source": [
    "## 会話開始\n",
    "query = \"日本における、SDGsアクションプラン2023は何ですか？\"\n",
    "res = qa({\"question\": query})\n",
    "res"
   ]
  },
  {
   "cell_type": "markdown",
   "metadata": {
    "id": "T-YuC5oXJ6mT"
   },
   "source": [
    "より詳細なRAGの手法が知りたい場合は、以下のサイト等を参考にしましょう。\n",
    "\n",
    "- [Retrieval-augmented generation (RAG) | 🦜️🔗 Langchain](https://python.langchain.com/docs/use_cases/question_answering/)\n",
    "- [Retrieval | 🦜️🔗 Langchain](https://python.langchain.com/docs/modules/data_connection/)"
   ]
  },
  {
   "cell_type": "markdown",
   "metadata": {
    "id": "zsQm4QGlwDTc"
   },
   "source": [
    "## RAGアプリケーションを作る際の検討事項\n",
    "\n",
    "大量のドキュメントの中から回答を得るような、大規模なRAGアプリケーションを構築する場合、いくつか検討する事項があります。\n"
   ]
  },
  {
   "cell_type": "markdown",
   "metadata": {
    "id": "RYbezPJOKZEj"
   },
   "source": [
    "### 欲しい情報がどのドキュメントにあるのか？\n",
    "\n",
    "RAGでは、既存のドキュメントの内容をプロンプト内に入れることで、その情報を元に回答してくれます。\n",
    "ドキュメントが大量にある場合、まず既存のドキュメントの検索をどのように行うかを検討する必要があります。\n",
    "\n",
    "今回のサンプルコードでは、ローカルメモリ上に構築したベクターストアにドキュメントのEmbedding情報を格納し、検索することを行いました。ローカルメモリ上では情報の永続化ができないので、永続化できないといけません。\n",
    "今回使用した「Chroma」は、永続化オプションがあります。\n",
    "しかし、ローカルマシン上に格納されるので、負荷が高くなった時のスケールアウトが難しくなります。\n",
    "\n",
    "実際のアプリケーションでは、ベクターストアはアプリケーションとは別の外部にあることが望ましいです。\n",
    "\n",
    "例えば、PostgreSQLにpg_vectorという拡張モジュールがあり、これを使うことでPostgreSQL上でベクトル管理・検索が可能になります。Amazon RDSにも対応しています。\n",
    "\n",
    "- 参考: [Amazon RDS for PostgreSQLがpgvectorモジュールに対応しベクトル検索できるようになりました | DevelopersIO](https://dev.classmethod.jp/articles/amazon-rds-postgresql-pgvector-embedding/)\n",
    "\n",
    "また、近年ベクターストアサービスがたくさん出てきています。\n",
    "\n",
    "Momento Vector Indexや、Cloudflare Vectorizeといった、Webアプリケーション等で利用しやすいサービスもあります。\n",
    "\n",
    "- 参考: [サーバレスなVector Database、Momento Vector Indexの紹介 | DevelopersIO](https://dev.classmethod.jp/articles/momento-vector-index/)\n",
    "- 参考: [Cloudflare Vectorize · Vectorize](https://developers.cloudflare.com/vectorize)\n",
    "\n",
    "### ドキュメント検索サービスを使う方法\n",
    "\n",
    "ベクターストア以外にドキュメント検索する方法としては、ドキュメント検索サービスを使う方法があります。\n",
    "AWSであれば、Amazon Kendra、Google Cloudであれば、Enterprize Searchがあります。\n",
    "AWSはAmazon KendraとOpenAIを活用したサンプルチャットアプリケーションを公開しています。\n",
    "\n",
    "- 参考: [Amazon Kendra と OpenAI により最新の AWS ユーザーガイドに基づいて回答するチャットアプリケーションのサンプルを試してみた | DevelopersIO](https://dev.classmethod.jp/articles/using-amazon-kendra-langchain-extensions/)\n",
    "- 参考: [【Google Cloud】Enterprise Searchで社内ドキュメントを検索してみた | DevelopersIO](https://dev.classmethod.jp/articles/try-google-cloud-enterprise-search/)\n",
    "\n",
    "ドキュメント検索サービスだけ使っても、言語モデルからの応答は得られません。\n",
    "この場合、ドキュメント検索サービスの検索結果の上位のドキュメントから、必要な情報を抽出して、言語モデルのプロンプトに入れて回答を得る必要があります。\n",
    "\n",
    "この方法では、大量のドキュメントを事前にベクターストアに格納する必要がなく、引用元のドキュメントもわかるという利点があります。"
   ]
  },
  {
   "cell_type": "markdown",
   "metadata": {
    "id": "-rfUiTyUb_0i"
   },
   "source": [
    "### 参考構成\n",
    "\n",
    "![AWS_RAG](https://devio2023-media.developers.io/wp-content/uploads/2023/10/Untitled.png)\n",
    "\n",
    "https://dev.classmethod.jp/articles/implement-rag-with-aws-services/\n",
    "\n",
    "![GCP_RAG](https://devio2023-media.developers.io/wp-content/uploads/2023/09/Picture3-1-640x203.png)\n",
    "\n",
    "https://dev.classmethod.jp/articles/improve-work-efficiency-with-generateive-ai-chatbot-using-rag/\n",
    "\n",
    "![GCP_Enterprize_RAG](https://devio2023-media.developers.io/wp-content/uploads/2023/09/Picture1-1-1536x944.png)\n",
    "\n",
    "https://dev.classmethod.jp/articles/qa-with-google-cloud-enterprise-search-and-retrieve-read-compose-rag/\n"
   ]
  },
  {
   "cell_type": "code",
   "execution_count": null,
   "metadata": {
    "id": "_KO3tO3va57q"
   },
   "outputs": [],
   "source": []
  }
 ],
 "metadata": {
  "colab": {
   "authorship_tag": "ABX9TyMVKlHMTHJspEGvMyB32QqR",
   "provenance": []
  },
  "kernelspec": {
   "display_name": "default:Python",
   "language": "python",
   "name": "conda-env-default-py"
  },
  "language_info": {
   "codemirror_mode": {
    "name": "ipython",
    "version": 3
   },
   "file_extension": ".py",
   "mimetype": "text/x-python",
   "name": "python",
   "nbconvert_exporter": "python",
   "pygments_lexer": "ipython3",
   "version": "3.9.7"
  }
 },
 "nbformat": 4,
 "nbformat_minor": 4
}
